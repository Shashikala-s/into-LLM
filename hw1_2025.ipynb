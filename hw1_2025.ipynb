{
  "nbformat": 4,
  "nbformat_minor": 0,
  "metadata": {
    "colab": {
      "provenance": [],
      "authorship_tag": "ABX9TyPKq7DM42tkdakD62RMReg0",
      "include_colab_link": true
    },
    "kernelspec": {
      "name": "python3",
      "display_name": "Python 3"
    },
    "language_info": {
      "name": "python"
    }
  },
  "cells": [
    {
      "cell_type": "markdown",
      "metadata": {
        "id": "view-in-github",
        "colab_type": "text"
      },
      "source": [
        "<a href=\"https://colab.research.google.com/github/Shashikala-s/into-LLM/blob/main/hw1_2025.ipynb\" target=\"_parent\"><img src=\"https://colab.research.google.com/assets/colab-badge.svg\" alt=\"Open In Colab\"/></a>"
      ]
    },
    {
      "cell_type": "markdown",
      "source": [
        "Exercise 2: Understanding LLM configuration (8 points)"
      ],
      "metadata": {
        "id": "8849Jefm2Kcf"
      }
    },
    {
      "cell_type": "code",
      "source": [],
      "metadata": {
        "id": "vKQJKkNG2OHm"
      },
      "execution_count": null,
      "outputs": []
    }
  ]
}